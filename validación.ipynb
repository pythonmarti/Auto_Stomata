{
 "cells": [
  {
   "cell_type": "code",
   "execution_count": 3,
   "id": "1e075880",
   "metadata": {},
   "outputs": [
    {
     "name": "stdout",
     "output_type": "stream",
     "text": [
      "Collecting pandas\n",
      "  Downloading pandas-2.3.1-cp310-cp310-macosx_11_0_arm64.whl (10.8 MB)\n",
      "\u001b[2K     \u001b[90m━━━━━━━━━━━━━━━━━━━━━━━━━━━━━━━━━━━━━━━━\u001b[0m \u001b[32m10.8/10.8 MB\u001b[0m \u001b[31m4.3 MB/s\u001b[0m eta \u001b[36m0:00:00\u001b[0m00:01\u001b[0m00:01\u001b[0m\n",
      "\u001b[?25hRequirement already satisfied: python-dateutil>=2.8.2 in ./venv_pipeline/lib/python3.10/site-packages (from pandas) (2.9.0.post0)\n",
      "Collecting pytz>=2020.1\n",
      "  Using cached pytz-2025.2-py2.py3-none-any.whl (509 kB)\n",
      "Collecting numpy>=1.22.4\n",
      "  Using cached numpy-2.2.6-cp310-cp310-macosx_14_0_arm64.whl (5.3 MB)\n",
      "Collecting tzdata>=2022.7\n",
      "  Using cached tzdata-2025.2-py2.py3-none-any.whl (347 kB)\n",
      "Requirement already satisfied: six>=1.5 in ./venv_pipeline/lib/python3.10/site-packages (from python-dateutil>=2.8.2->pandas) (1.17.0)\n",
      "Installing collected packages: pytz, tzdata, numpy, pandas\n",
      "Successfully installed numpy-2.2.6 pandas-2.3.1 pytz-2025.2 tzdata-2025.2\n",
      "\n",
      "\u001b[1m[\u001b[0m\u001b[34;49mnotice\u001b[0m\u001b[1;39;49m]\u001b[0m\u001b[39;49m A new release of pip is available: \u001b[0m\u001b[31;49m23.0\u001b[0m\u001b[39;49m -> \u001b[0m\u001b[32;49m25.1.1\u001b[0m\n",
      "\u001b[1m[\u001b[0m\u001b[34;49mnotice\u001b[0m\u001b[1;39;49m]\u001b[0m\u001b[39;49m To update, run: \u001b[0m\u001b[32;49mpip install --upgrade pip\u001b[0m\n"
     ]
    }
   ],
   "source": [
    "!pip install pandas"
   ]
  },
  {
   "cell_type": "code",
   "execution_count": null,
   "id": "f67c0e81",
   "metadata": {},
   "outputs": [
    {
     "name": "stdout",
     "output_type": "stream",
     "text": [
      "Buscando en las carpetas:\n",
      "- Imágenes: subval/images\n",
      "- Etiquetas: subval/labels\n",
      "\n",
      "✅ Se encontraron 50 coincidencias:\n",
      "\n",
      "  - Par encontrado: 'ds2_1-25_Y_jpg.rf.9be6a494e4dc6e3111add0ca420c8c89.jpg' <--> 'ds2_1-25_Y_jpg.rf.9be6a494e4dc6e3111add0ca420c8c89.txt'\n",
      "  - Par encontrado: 'ds2_1-2_Y_jpg.rf.0b0a1d91c9bc7f8fe3f37f739241521c.jpg' <--> 'ds2_1-2_Y_jpg.rf.0b0a1d91c9bc7f8fe3f37f739241521c.txt'\n",
      "  - Par encontrado: 'ds2_1-2_Y_jpg.rf.141c48bdcef9f5ca5b5f90b16b4c557d.jpg' <--> 'ds2_1-2_Y_jpg.rf.141c48bdcef9f5ca5b5f90b16b4c557d.txt'\n",
      "  - Par encontrado: 'ds2_1-5_Y_jpg.rf.b3a16d4c4b3be2f79b8f1291d9682a22.jpg' <--> 'ds2_1-5_Y_jpg.rf.b3a16d4c4b3be2f79b8f1291d9682a22.txt'\n",
      "  - Par encontrado: 'ds2_10-11_A_jpg.rf.8d0964e2530f5730b909dc42bf864aa2.jpg' <--> 'ds2_10-11_A_jpg.rf.8d0964e2530f5730b909dc42bf864aa2.txt'\n",
      "  - Par encontrado: 'ds2_10-12_A_jpg.rf.63f701dd1ab2936fdc78ade67f00ca38.jpg' <--> 'ds2_10-12_A_jpg.rf.63f701dd1ab2936fdc78ade67f00ca38.txt'\n",
      "  - Par encontrado: 'ds2_10-16_Y_jpg.rf.83f547fe46dbce83c6fa0255f32fbac4.jpg' <--> 'ds2_10-16_Y_jpg.rf.83f547fe46dbce83c6fa0255f32fbac4.txt'\n",
      "  - Par encontrado: 'ds2_10-25_A_jpg.rf.036eb6889217f1938239edfc9268e259.jpg' <--> 'ds2_10-25_A_jpg.rf.036eb6889217f1938239edfc9268e259.txt'\n",
      "  - Par encontrado: 'ds2_10-3_A_jpg.rf.f47f4dc3b3309f36b3fb79c4e4003702.jpg' <--> 'ds2_10-3_A_jpg.rf.f47f4dc3b3309f36b3fb79c4e4003702.txt'\n",
      "  - Par encontrado: 'ds2_10-5_Y_jpg.rf.af2e6b59ed7a8d5618e981d9273ad91d.jpg' <--> 'ds2_10-5_Y_jpg.rf.af2e6b59ed7a8d5618e981d9273ad91d.txt'\n",
      "  - Par encontrado: 'ds2_10-7_A_jpg.rf.c76d65c79a3c9aa48d252a2f9597d53e.jpg' <--> 'ds2_10-7_A_jpg.rf.c76d65c79a3c9aa48d252a2f9597d53e.txt'\n",
      "  - Par encontrado: 'ds2_10-9_Y_jpg.rf.dc866b9a2bbaecd76f7f6cfa8133c059.jpg' <--> 'ds2_10-9_Y_jpg.rf.dc866b9a2bbaecd76f7f6cfa8133c059.txt'\n",
      "  - Par encontrado: 'ds2_11-15_A_jpg.rf.244f01612c4f230bce130e1a1d543d1b.jpg' <--> 'ds2_11-15_A_jpg.rf.244f01612c4f230bce130e1a1d543d1b.txt'\n",
      "  - Par encontrado: 'ds2_11-22_Y_jpg.rf.ec6b6464689f1ee9326be3ebb6c52057.jpg' <--> 'ds2_11-22_Y_jpg.rf.ec6b6464689f1ee9326be3ebb6c52057.txt'\n",
      "  - Par encontrado: 'ds2_11-3_A_jpg.rf.505f2485e2000c8e92041026653ebc0c.jpg' <--> 'ds2_11-3_A_jpg.rf.505f2485e2000c8e92041026653ebc0c.txt'\n",
      "  - Par encontrado: 'ds2_12-12_Y_jpg.rf.1812ea8653cc05bbf52de3bc3fccc914.jpg' <--> 'ds2_12-12_Y_jpg.rf.1812ea8653cc05bbf52de3bc3fccc914.txt'\n",
      "  - Par encontrado: 'ds2_12-17_Y_jpg.rf.f58af49ec79d9d075a86cc3fb9476d03.jpg' <--> 'ds2_12-17_Y_jpg.rf.f58af49ec79d9d075a86cc3fb9476d03.txt'\n",
      "  - Par encontrado: 'ds2_12-22_b_9sec_jpg.rf.cb2fd130642a26cf0a3e2aec48c3de94.jpg' <--> 'ds2_12-22_b_9sec_jpg.rf.cb2fd130642a26cf0a3e2aec48c3de94.txt'\n",
      "  - Par encontrado: 'ds2_12-24_Y_jpg.rf.315c27ef336b006c4847723775bdf1c9.jpg' <--> 'ds2_12-24_Y_jpg.rf.315c27ef336b006c4847723775bdf1c9.txt'\n",
      "  - Par encontrado: 'ds2_12-3_A_jpg.rf.3c861b9aeeda504adb939b214b0c6c8c.jpg' <--> 'ds2_12-3_A_jpg.rf.3c861b9aeeda504adb939b214b0c6c8c.txt'\n",
      "  - Par encontrado: 'ds2_12-5_A_jpg.rf.d8ffe07aabf8b12a8b31dbb6a0040dc2.jpg' <--> 'ds2_12-5_A_jpg.rf.d8ffe07aabf8b12a8b31dbb6a0040dc2.txt'\n",
      "  - Par encontrado: 'ds2_12-9_A_jpg.rf.7233fb41f3f503aa1723aba6e3cafb9b.jpg' <--> 'ds2_12-9_A_jpg.rf.7233fb41f3f503aa1723aba6e3cafb9b.txt'\n",
      "  - Par encontrado: 'ds2_2-10_A_jpg.rf.b7f9f5be5ab9e591a3f6e072d30cec8f.jpg' <--> 'ds2_2-10_A_jpg.rf.b7f9f5be5ab9e591a3f6e072d30cec8f.txt'\n",
      "  - Par encontrado: 'ds2_2-12_Y_jpg.rf.02140007b8e770fe5ac0f27b1da9c641.jpg' <--> 'ds2_2-12_Y_jpg.rf.02140007b8e770fe5ac0f27b1da9c641.txt'\n",
      "  - Par encontrado: 'ds2_2-17_A_jpg.rf.9c84630c02e8da46e7255ae671359980.jpg' <--> 'ds2_2-17_A_jpg.rf.9c84630c02e8da46e7255ae671359980.txt'\n",
      "  - Par encontrado: 'ds2_2-18_Y_jpg.rf.fdb316254ccfeeda52a25a0dfa26d72d.jpg' <--> 'ds2_2-18_Y_jpg.rf.fdb316254ccfeeda52a25a0dfa26d72d.txt'\n",
      "  - Par encontrado: 'ds2_2-1_A_jpg.rf.feaf58741d1ad2ac5ac00c70d2ad75d4.jpg' <--> 'ds2_2-1_A_jpg.rf.feaf58741d1ad2ac5ac00c70d2ad75d4.txt'\n",
      "  - Par encontrado: 'ds2_2-22_Y_jpg.rf.e89d5819e28e1eebf6250e456cc16637.jpg' <--> 'ds2_2-22_Y_jpg.rf.e89d5819e28e1eebf6250e456cc16637.txt'\n",
      "  - Par encontrado: 'ds2_2-25_A_jpg.rf.13dd646112fe9768e787912998f18176.jpg' <--> 'ds2_2-25_A_jpg.rf.13dd646112fe9768e787912998f18176.txt'\n",
      "  - Par encontrado: 'ds2_2-6_A_jpg.rf.8ffc50f48a53879eb161f8dc1fd1602f.jpg' <--> 'ds2_2-6_A_jpg.rf.8ffc50f48a53879eb161f8dc1fd1602f.txt'\n",
      "  - Par encontrado: 'ds2_2-8_A_jpg.rf.2ed91c22e7f7c8324379c00aa8a09289.jpg' <--> 'ds2_2-8_A_jpg.rf.2ed91c22e7f7c8324379c00aa8a09289.txt'\n",
      "  - Par encontrado: 'ds2_2-8_Y_jpg.rf.24cf207b68a1d15e371efe0ca5af6efa.jpg' <--> 'ds2_2-8_Y_jpg.rf.24cf207b68a1d15e371efe0ca5af6efa.txt'\n",
      "  - Par encontrado: 'ds2_2024-04-20-22-07-59-B-R1-S1-_jpg.rf.d520fa06d78c4fa4e8962320b9cf0ff4.jpg' <--> 'ds2_2024-04-20-22-07-59-B-R1-S1-_jpg.rf.d520fa06d78c4fa4e8962320b9cf0ff4.txt'\n",
      "  - Par encontrado: 'ds2_2024-04-20-22-08-01-B-R1-S1-_jpg.rf.a92228ae2732eda95e75fc5ea316fdd7.jpg' <--> 'ds2_2024-04-20-22-08-01-B-R1-S1-_jpg.rf.a92228ae2732eda95e75fc5ea316fdd7.txt'\n",
      "  - Par encontrado: 'ds2_2024-04-20-22-08-05-B-R1-S1-_jpg.rf.8164f8e07fb8afdc7aba0614b422854f.jpg' <--> 'ds2_2024-04-20-22-08-05-B-R1-S1-_jpg.rf.8164f8e07fb8afdc7aba0614b422854f.txt'\n",
      "  - Par encontrado: 'ds2_2024-04-21-20-20-35-B-R1-S1-_jpg.rf.0102d22e1fa111c890d44f00e8b22f6e.jpg' <--> 'ds2_2024-04-21-20-20-35-B-R1-S1-_jpg.rf.0102d22e1fa111c890d44f00e8b22f6e.txt'\n",
      "  - Par encontrado: 'ds2_2024-04-21-20-20-35-B-R1-S1-_jpg.rf.e907a5d92c1a5ce2ec83ae65d6206ade.jpg' <--> 'ds2_2024-04-21-20-20-35-B-R1-S1-_jpg.rf.e907a5d92c1a5ce2ec83ae65d6206ade.txt'\n",
      "  - Par encontrado: 'ds2_2024-04-21-20-20-37-B-R1-S1-_jpg.rf.f0204cfa8b6fae0fdacc8bdfa16a15c6.jpg' <--> 'ds2_2024-04-21-20-20-37-B-R1-S1-_jpg.rf.f0204cfa8b6fae0fdacc8bdfa16a15c6.txt'\n",
      "  - Par encontrado: 'ds2_2024-04-21-22-15-48-B-R1-S1-_jpg.rf.bb21a12ee7c5bebf826382df9f5929cd.jpg' <--> 'ds2_2024-04-21-22-15-48-B-R1-S1-_jpg.rf.bb21a12ee7c5bebf826382df9f5929cd.txt'\n",
      "  - Par encontrado: 'ds2_2024-04-21-22-15-54-B-R1-S1-_jpg.rf.f50480053d8d06b07512687fffd48afb.jpg' <--> 'ds2_2024-04-21-22-15-54-B-R1-S1-_jpg.rf.f50480053d8d06b07512687fffd48afb.txt'\n",
      "  - Par encontrado: 'ds2_2024-04-22-09-34-06-B-R1-S1-_jpg.rf.14fc1ae2ce23ca1d1f4655b34b53b0e8.jpg' <--> 'ds2_2024-04-22-09-34-06-B-R1-S1-_jpg.rf.14fc1ae2ce23ca1d1f4655b34b53b0e8.txt'\n",
      "  - Par encontrado: 'ds2_2024-04-22-09-34-08-B-R1-S1-_jpg.rf.a6f86eca88335d131b0e17f5e76cc842.jpg' <--> 'ds2_2024-04-22-09-34-08-B-R1-S1-_jpg.rf.a6f86eca88335d131b0e17f5e76cc842.txt'\n",
      "  - Par encontrado: 'ds2_2024-04-22-09-34-09-B-R1-S1-_jpg.rf.405a4c4a287c32795f512bd335cdee14.jpg' <--> 'ds2_2024-04-22-09-34-09-B-R1-S1-_jpg.rf.405a4c4a287c32795f512bd335cdee14.txt'\n",
      "  - Par encontrado: 'ds2_2024-04-23-16-18-05-B-R1-S1-_jpg.rf.cce7ac8d4598cecce465aac37d6a4119.jpg' <--> 'ds2_2024-04-23-16-18-05-B-R1-S1-_jpg.rf.cce7ac8d4598cecce465aac37d6a4119.txt'\n",
      "  - Par encontrado: 'ds2_8-15_Y_jpg.rf.b59b6bc4386cb26042b35c608b2d5af5.jpg' <--> 'ds2_8-15_Y_jpg.rf.b59b6bc4386cb26042b35c608b2d5af5.txt'\n",
      "  - Par encontrado: 'ds2_8-21_Y_jpg.rf.e4e4f95978147d6b9b115b85e949f2a2.jpg' <--> 'ds2_8-21_Y_jpg.rf.e4e4f95978147d6b9b115b85e949f2a2.txt'\n",
      "  - Par encontrado: 'ds2_9-17_Y_jpg.rf.3ce690fff4f7d337fd28386354f5fed2.jpg' <--> 'ds2_9-17_Y_jpg.rf.3ce690fff4f7d337fd28386354f5fed2.txt'\n",
      "  - Par encontrado: 'ds2_9-1_A_jpg.rf.5ace77941e47a2aec08c72d0dbe85b8f.jpg' <--> 'ds2_9-1_A_jpg.rf.5ace77941e47a2aec08c72d0dbe85b8f.txt'\n",
      "  - Par encontrado: 'ds2_9-23_A_jpg.rf.1c0a62f567bfb4827b51751d5f3bf9c5.jpg' <--> 'ds2_9-23_A_jpg.rf.1c0a62f567bfb4827b51751d5f3bf9c5.txt'\n",
      "  - Par encontrado: 'ds2_9-9_A_jpg.rf.36bd300e324a30a2dfe5d07669843773.jpg' <--> 'ds2_9-9_A_jpg.rf.36bd300e324a30a2dfe5d07669843773.txt'\n",
      "\n",
      "--- Verificación de Inconsistencias ---\n",
      "\n",
      "❌ Etiquetas (.txt) SIN su correspondiente imagen:\n",
      "  - .DS_Store\n",
      "\n",
      "--- Resumen General ---\n",
      "Total de archivos en 'images': 50\n",
      "Total de archivos en 'labels': 51\n",
      "Total de pares coincidentes: 50\n"
     ]
    }
   ],
   "source": [
    "import os\n",
    "\n",
    "ruta_principal = 'subval'\n",
    "ruta_images = os.path.join(ruta_principal, 'images')\n",
    "ruta_labels = os.path.join(ruta_principal, 'labels')\n",
    "\n",
    "print(f\"Buscando en las carpetas:\\n- Imágenes: {ruta_images}\\n- Etiquetas: {ruta_labels}\\n\")\n",
    "\n",
    "try:\n",
    "    mapa_images = {os.path.splitext(f)[0]: f for f in os.listdir(ruta_images)}\n",
    "    mapa_labels = {os.path.splitext(f)[0]: f for f in os.listdir(ruta_labels)}\n",
    "\n",
    "    nombres_base_images = set(mapa_images.keys())\n",
    "    nombres_base_labels = set(mapa_labels.keys())\n",
    "    \n",
    "    coincidencias = nombres_base_images.intersection(nombres_base_labels)\n",
    "    \n",
    "    imagenes_sin_par = nombres_base_images - nombres_base_labels\n",
    "    labels_sin_par = nombres_base_labels - nombres_base_images\n",
    "\n",
    "    if not coincidencias:\n",
    "        print(\"¡No se encontraron archivos con nombres coincidentes!\\n\")\n",
    "    else:\n",
    "        print(f\"✅ Se encontraron {len(coincidencias)} coincidencias:\\n\")\n",
    "        for nombre_base in sorted(list(coincidencias)):\n",
    "            archivo_imagen = mapa_images[nombre_base]\n",
    "            archivo_etiqueta = mapa_labels[nombre_base]\n",
    "            print(f\"  - Par encontrado: '{archivo_imagen}' <--> '{archivo_etiqueta}'\")\n",
    "\n",
    "    print(\"\\n--- Verificación de Inconsistencias ---\")\n",
    "    if not imagenes_sin_par and not labels_sin_par:\n",
    "        print(\"✅ ¡Perfecto! Todos los archivos tienen su par correspondiente.\")\n",
    "    else:\n",
    "        if imagenes_sin_par:\n",
    "            print(\"\\n❌ Imágenes SIN su correspondiente etiqueta (.txt):\")\n",
    "            for nombre_base in sorted(list(imagenes_sin_par)):\n",
    "                print(f\"  - {mapa_images[nombre_base]}\")\n",
    "        \n",
    "        if labels_sin_par:\n",
    "            print(\"\\n❌ Etiquetas (.txt) SIN su correspondiente imagen:\")\n",
    "            for nombre_base in sorted(list(labels_sin_par)):\n",
    "                print(f\"  - {mapa_labels[nombre_base]}\")\n",
    "    \n",
    "    print(\"\\n--- Resumen General ---\")\n",
    "    print(f\"Total de archivos en 'images': {len(mapa_images)}\")\n",
    "    print(f\"Total de archivos en 'labels': {len(mapa_labels)}\")\n",
    "    print(f\"Total de pares coincidentes: {len(coincidencias)}\")\n",
    "\n",
    "\n",
    "except FileNotFoundError:\n",
    "    print(f\"❌ ERROR: No se pudo encontrar la carpeta '{ruta_principal}' o sus subcarpetas 'images' y 'labels'.\")\n",
    "    print(\"Asegúrate de que la estructura de carpetas es correcta y que el notebook está en el lugar adecuado.\")"
   ]
  },
  {
   "cell_type": "markdown",
   "id": "e8d1cb1d",
   "metadata": {},
   "source": [
    "# Validación"
   ]
  },
  {
   "cell_type": "code",
   "execution_count": 2,
   "id": "830559f9",
   "metadata": {},
   "outputs": [
    {
     "name": "stdout",
     "output_type": "stream",
     "text": [
      "Collecting openpyxl\n",
      "  Downloading openpyxl-3.1.5-py2.py3-none-any.whl (250 kB)\n",
      "\u001b[2K     \u001b[90m━━━━━━━━━━━━━━━━━━━━━━━━━━━━━━━━━━━━━━━\u001b[0m \u001b[32m250.9/250.9 kB\u001b[0m \u001b[31m3.7 MB/s\u001b[0m eta \u001b[36m0:00:00\u001b[0ma \u001b[36m0:00:01\u001b[0m\n",
      "\u001b[?25hCollecting et-xmlfile\n",
      "  Downloading et_xmlfile-2.0.0-py3-none-any.whl (18 kB)\n",
      "Installing collected packages: et-xmlfile, openpyxl\n",
      "Successfully installed et-xmlfile-2.0.0 openpyxl-3.1.5\n",
      "\n",
      "\u001b[1m[\u001b[0m\u001b[34;49mnotice\u001b[0m\u001b[1;39;49m]\u001b[0m\u001b[39;49m A new release of pip is available: \u001b[0m\u001b[31;49m23.0\u001b[0m\u001b[39;49m -> \u001b[0m\u001b[32;49m25.1.1\u001b[0m\n",
      "\u001b[1m[\u001b[0m\u001b[34;49mnotice\u001b[0m\u001b[1;39;49m]\u001b[0m\u001b[39;49m To update, run: \u001b[0m\u001b[32;49mpip install --upgrade pip\u001b[0m\n"
     ]
    }
   ],
   "source": [
    "!pip install openpyxl"
   ]
  },
  {
   "cell_type": "code",
   "execution_count": 3,
   "id": "11c3702b",
   "metadata": {},
   "outputs": [
    {
     "name": "stdout",
     "output_type": "stream",
     "text": [
      "\n",
      "DataFrame resultante del merge:\n"
     ]
    },
    {
     "data": {
      "application/vnd.microsoft.datawrangler.viewer.v0+json": {
       "columns": [
        {
         "name": "index",
         "rawType": "int64",
         "type": "integer"
        },
        {
         "name": "image_id",
         "rawType": "object",
         "type": "string"
        },
        {
         "name": "stomata_density_count",
         "rawType": "int64",
         "type": "integer"
        },
        {
         "name": "open_stomata_count",
         "rawType": "int64",
         "type": "integer"
        },
        {
         "name": "closed_stomata_count",
         "rawType": "int64",
         "type": "integer"
        },
        {
         "name": "average_area_pixels",
         "rawType": "float64",
         "type": "float"
        },
        {
         "name": "average_length_pixels",
         "rawType": "float64",
         "type": "float"
        },
        {
         "name": "average_width_pixels",
         "rawType": "float64",
         "type": "float"
        },
        {
         "name": "average_shape_index",
         "rawType": "float64",
         "type": "float"
        },
        {
         "name": "distribution_pattern_cv",
         "rawType": "float64",
         "type": "float"
        },
        {
         "name": "false_open",
         "rawType": "int64",
         "type": "integer"
        },
        {
         "name": "false_closed",
         "rawType": "int64",
         "type": "integer"
        },
        {
         "name": "mal_segmentado",
         "rawType": "int64",
         "type": "integer"
        }
       ],
       "ref": "0e9d17c7-e6f9-4894-b89d-3b6dff5f433b",
       "rows": [
        [
         "0",
         "ds2_1-25_Y_jpg.rf.9be6a494e4dc6e3111add0ca420c8c89",
         "52",
         "37",
         "15",
         "614.1",
         "33.37",
         "23.86",
         "0.721",
         "0.341",
         "1",
         "1",
         "7"
        ],
        [
         "1",
         "ds2_1-2_Y_jpg.rf.0b0a1d91c9bc7f8fe3f37f739241521c",
         "34",
         "22",
         "12",
         "621.79",
         "35.26",
         "23.1",
         "0.669",
         "0.325",
         "1",
         "2",
         "7"
        ],
        [
         "2",
         "ds2_1-2_Y_jpg.rf.141c48bdcef9f5ca5b5f90b16b4c557d",
         "34",
         "22",
         "12",
         "615.13",
         "35.66",
         "22.76",
         "0.651",
         "0.324",
         "1",
         "0",
         "7"
        ],
        [
         "3",
         "ds2_1-5_Y_jpg.rf.b3a16d4c4b3be2f79b8f1291d9682a22",
         "26",
         "17",
         "9",
         "807.48",
         "42.47",
         "25.12",
         "0.599",
         "0.443",
         "1",
         "0",
         "5"
        ],
        [
         "4",
         "ds2_10-11_A_jpg.rf.8d0964e2530f5730b909dc42bf864aa2",
         "41",
         "33",
         "8",
         "666.79",
         "34.93",
         "24.71",
         "0.718",
         "0.389",
         "1",
         "2",
         "6"
        ]
       ],
       "shape": {
        "columns": 12,
        "rows": 5
       }
      },
      "text/html": [
       "<div>\n",
       "<style scoped>\n",
       "    .dataframe tbody tr th:only-of-type {\n",
       "        vertical-align: middle;\n",
       "    }\n",
       "\n",
       "    .dataframe tbody tr th {\n",
       "        vertical-align: top;\n",
       "    }\n",
       "\n",
       "    .dataframe thead th {\n",
       "        text-align: right;\n",
       "    }\n",
       "</style>\n",
       "<table border=\"1\" class=\"dataframe\">\n",
       "  <thead>\n",
       "    <tr style=\"text-align: right;\">\n",
       "      <th></th>\n",
       "      <th>image_id</th>\n",
       "      <th>stomata_density_count</th>\n",
       "      <th>open_stomata_count</th>\n",
       "      <th>closed_stomata_count</th>\n",
       "      <th>average_area_pixels</th>\n",
       "      <th>average_length_pixels</th>\n",
       "      <th>average_width_pixels</th>\n",
       "      <th>average_shape_index</th>\n",
       "      <th>distribution_pattern_cv</th>\n",
       "      <th>false_open</th>\n",
       "      <th>false_closed</th>\n",
       "      <th>mal_segmentado</th>\n",
       "    </tr>\n",
       "  </thead>\n",
       "  <tbody>\n",
       "    <tr>\n",
       "      <th>0</th>\n",
       "      <td>ds2_1-25_Y_jpg.rf.9be6a494e4dc6e3111add0ca420c...</td>\n",
       "      <td>52</td>\n",
       "      <td>37</td>\n",
       "      <td>15</td>\n",
       "      <td>614.10</td>\n",
       "      <td>33.37</td>\n",
       "      <td>23.86</td>\n",
       "      <td>0.721</td>\n",
       "      <td>0.341</td>\n",
       "      <td>1</td>\n",
       "      <td>1</td>\n",
       "      <td>7</td>\n",
       "    </tr>\n",
       "    <tr>\n",
       "      <th>1</th>\n",
       "      <td>ds2_1-2_Y_jpg.rf.0b0a1d91c9bc7f8fe3f37f739241521c</td>\n",
       "      <td>34</td>\n",
       "      <td>22</td>\n",
       "      <td>12</td>\n",
       "      <td>621.79</td>\n",
       "      <td>35.26</td>\n",
       "      <td>23.10</td>\n",
       "      <td>0.669</td>\n",
       "      <td>0.325</td>\n",
       "      <td>1</td>\n",
       "      <td>2</td>\n",
       "      <td>7</td>\n",
       "    </tr>\n",
       "    <tr>\n",
       "      <th>2</th>\n",
       "      <td>ds2_1-2_Y_jpg.rf.141c48bdcef9f5ca5b5f90b16b4c557d</td>\n",
       "      <td>34</td>\n",
       "      <td>22</td>\n",
       "      <td>12</td>\n",
       "      <td>615.13</td>\n",
       "      <td>35.66</td>\n",
       "      <td>22.76</td>\n",
       "      <td>0.651</td>\n",
       "      <td>0.324</td>\n",
       "      <td>1</td>\n",
       "      <td>0</td>\n",
       "      <td>7</td>\n",
       "    </tr>\n",
       "    <tr>\n",
       "      <th>3</th>\n",
       "      <td>ds2_1-5_Y_jpg.rf.b3a16d4c4b3be2f79b8f1291d9682a22</td>\n",
       "      <td>26</td>\n",
       "      <td>17</td>\n",
       "      <td>9</td>\n",
       "      <td>807.48</td>\n",
       "      <td>42.47</td>\n",
       "      <td>25.12</td>\n",
       "      <td>0.599</td>\n",
       "      <td>0.443</td>\n",
       "      <td>1</td>\n",
       "      <td>0</td>\n",
       "      <td>5</td>\n",
       "    </tr>\n",
       "    <tr>\n",
       "      <th>4</th>\n",
       "      <td>ds2_10-11_A_jpg.rf.8d0964e2530f5730b909dc42bf8...</td>\n",
       "      <td>41</td>\n",
       "      <td>33</td>\n",
       "      <td>8</td>\n",
       "      <td>666.79</td>\n",
       "      <td>34.93</td>\n",
       "      <td>24.71</td>\n",
       "      <td>0.718</td>\n",
       "      <td>0.389</td>\n",
       "      <td>1</td>\n",
       "      <td>2</td>\n",
       "      <td>6</td>\n",
       "    </tr>\n",
       "  </tbody>\n",
       "</table>\n",
       "</div>"
      ],
      "text/plain": [
       "                                            image_id  stomata_density_count  \\\n",
       "0  ds2_1-25_Y_jpg.rf.9be6a494e4dc6e3111add0ca420c...                     52   \n",
       "1  ds2_1-2_Y_jpg.rf.0b0a1d91c9bc7f8fe3f37f739241521c                     34   \n",
       "2  ds2_1-2_Y_jpg.rf.141c48bdcef9f5ca5b5f90b16b4c557d                     34   \n",
       "3  ds2_1-5_Y_jpg.rf.b3a16d4c4b3be2f79b8f1291d9682a22                     26   \n",
       "4  ds2_10-11_A_jpg.rf.8d0964e2530f5730b909dc42bf8...                     41   \n",
       "\n",
       "   open_stomata_count  closed_stomata_count  average_area_pixels  \\\n",
       "0                  37                    15               614.10   \n",
       "1                  22                    12               621.79   \n",
       "2                  22                    12               615.13   \n",
       "3                  17                     9               807.48   \n",
       "4                  33                     8               666.79   \n",
       "\n",
       "   average_length_pixels  average_width_pixels  average_shape_index  \\\n",
       "0                  33.37                 23.86                0.721   \n",
       "1                  35.26                 23.10                0.669   \n",
       "2                  35.66                 22.76                0.651   \n",
       "3                  42.47                 25.12                0.599   \n",
       "4                  34.93                 24.71                0.718   \n",
       "\n",
       "   distribution_pattern_cv  false_open  false_closed  mal_segmentado  \n",
       "0                    0.341           1             1               7  \n",
       "1                    0.325           1             2               7  \n",
       "2                    0.324           1             0               7  \n",
       "3                    0.443           1             0               5  \n",
       "4                    0.389           1             2               6  "
      ]
     },
     "execution_count": 3,
     "metadata": {},
     "output_type": "execute_result"
    }
   ],
   "source": [
    "import pandas as pd\n",
    "report=pd.read_csv(\"output/final_report.csv\")\n",
    "labels=pd.read_excel(\"validacion.xlsx\")\n",
    "df_final = pd.merge(report, labels, on='image_id', how='left')\n",
    "\n",
    "print(\"\\nDataFrame resultante del merge:\")\n",
    "df_final.head()"
   ]
  },
  {
   "cell_type": "code",
   "execution_count": null,
   "id": "b8c395c0",
   "metadata": {},
   "outputs": [
    {
     "name": "stdout",
     "output_type": "stream",
     "text": [
      "\n",
      "Dimensiones originales de 'report': (50, 9)\n",
      "Dimensiones del nuevo DataFrame 'df_final': (50, 12)\n",
      "\n",
      "Columnas en el DataFrame final:\n",
      "Index(['image_id', 'stomata_density_count', 'open_stomata_count',\n",
      "       'closed_stomata_count', 'average_area_pixels', 'average_length_pixels',\n",
      "       'average_width_pixels', 'average_shape_index',\n",
      "       'distribution_pattern_cv', 'false_open', 'false_closed',\n",
      "       'mal_segmentado'],\n",
      "      dtype='object')\n"
     ]
    }
   ],
   "source": [
    "print(\"\\nDimensiones originales de 'report':\", report.shape)\n",
    "print(\"Dimensiones del nuevo DataFrame 'df_final':\", df_final.shape)\n",
    "\n",
    "print(\"\\nColumnas en el DataFrame final:\")\n",
    "print(df_final.columns)\n",
    "df_final.to_excel(\"report_completo.xlsx\", index=False)"
   ]
  }
 ],
 "metadata": {
  "kernelspec": {
   "display_name": "venv_pipeline",
   "language": "python",
   "name": "python3"
  },
  "language_info": {
   "codemirror_mode": {
    "name": "ipython",
    "version": 3
   },
   "file_extension": ".py",
   "mimetype": "text/x-python",
   "name": "python",
   "nbconvert_exporter": "python",
   "pygments_lexer": "ipython3",
   "version": "3.10.10"
  }
 },
 "nbformat": 4,
 "nbformat_minor": 5
}
